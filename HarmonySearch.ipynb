{
  "nbformat": 4,
  "nbformat_minor": 0,
  "metadata": {
    "colab": {
      "name": "HarmonySearch.ipynb",
      "provenance": [],
      "collapsed_sections": [],
      "authorship_tag": "ABX9TyOlNfEVvCqH0dE/5Qq9BcTk",
      "include_colab_link": true
    },
    "kernelspec": {
      "name": "python3",
      "display_name": "Python 3"
    },
    "language_info": {
      "name": "python"
    }
  },
  "cells": [
    {
      "cell_type": "markdown",
      "metadata": {
        "id": "view-in-github",
        "colab_type": "text"
      },
      "source": [
        "<a href=\"https://colab.research.google.com/github/balajimt/HarmonicSearch/blob/main/HarmonySearch.ipynb\" target=\"_parent\"><img src=\"https://colab.research.google.com/assets/colab-badge.svg\" alt=\"Open In Colab\"/></a>"
      ]
    },
    {
      "cell_type": "code",
      "execution_count": null,
      "metadata": {
        "id": "KzKx-azPtqF3"
      },
      "outputs": [],
      "source": [
        "import random\n",
        "\n",
        "harmony_memory = []\n",
        "def GenerateInitPopulation(G, affected_node, harmony_memory_size):\n",
        "    neighbors = [i for i in G.neighbors(affected_node)]\n",
        "    for i in range(0, harmony_memory_size):    \n",
        "        random_adjacent_node = neighbors[random.randrange(len(neighbors))]\n",
        "        harmony_memory.append(set([affected_node, random_adjacent_node]))\n",
        "    return harmony_memory\n",
        "\n",
        "def PitchAdjustment(G, solution):\n",
        "    contact = random.sample(solution, 1)\n",
        "    components = HillClimbing(G, contact)\n",
        "    return solution.union(components)\n",
        "\n",
        "def indirectContactTrace(queue1, queue2):\n",
        "    max_q1 = queue1[0]\n",
        "    min_q2 = queue2[-1]\n",
        "    \n",
        "    # This means that there is no infection\n",
        "    if max_q1 < min_q2:\n",
        "        return False\n",
        "    \n",
        "    return True\n",
        "\n",
        "def HillClimbing(G, contact):\n",
        "    component = set()\n",
        "    contact = contact[0]\n",
        "    index = 0\n",
        "    grandparent = contact\n",
        "    parent = random.sample([i for i in G.neighbors(contact)],1)[0]\n",
        "    \n",
        "    for i in range(100):\n",
        "        parent_contact_vector = FindVectorInGraph(G, parent, contact)\n",
        "        grandparent_parent_vector = FindVectorInGraph(G, grandparent, parent)\n",
        "        component = component.union(set([contact]))\n",
        "        neighbors = [i for i in G.neighbors(contact)]\n",
        "        for adjacent_node in neighbors:\n",
        "            if indirectContactTrace(grandparent_parent_vector, parent_contact_vector): \n",
        "                component = component.union(set([adjacent_node]))\n",
        "        grandparent = parent\n",
        "        parent = contact\n",
        "        contact = random.sample([i for i in G.neighbors(contact)],1)[0]\n",
        "        \n",
        "    return component\n",
        "\n",
        "def FindVectorInGraph(G, contact1, contact2):\n",
        "    return G[contact1][contact2]['weight']\n",
        "\n",
        "def FindWorstSolution(harmony_memory):\n",
        "    index = 10**5\n",
        "    min_length = 10**5\n",
        "    for i in range(len(harmony_memory)):\n",
        "        if len(harmony_memory[i]) < min_length:\n",
        "            min_length = len(harmony_memory[i])\n",
        "            index = i\n",
        "    return harmony_memory[index], index\n",
        "\n",
        "def FindBestSolution(harmony_memory):\n",
        "    index = -1\n",
        "    max_length = -1\n",
        "    for i in range(len(harmony_memory)):\n",
        "        if len(harmony_memory[i]) > max_length:\n",
        "            max_length = len(harmony_memory[i])\n",
        "            index = i\n",
        "    return harmony_memory[index], index\n",
        "\n",
        "def HarmonySearch(G, affected_node):\n",
        "    improvisations = 5\n",
        "    harmony_memory_size = 100\n",
        "    harmony_memory_considering_rate = 0.5\n",
        "    pitch_adjustment_rate = 0.1\n",
        "    harmony_memory = GenerateInitPopulation(G, affected_node, harmony_memory_size)\n",
        "    for i in range(0, improvisations):\n",
        "        index = random.randrange(len(harmony_memory))\n",
        "        solution = harmony_memory[index]\n",
        "        for j in range(0, harmony_memory_size):\n",
        "            if j == index:\n",
        "                continue\n",
        "            random_value = random.randrange(1)\n",
        "            if (random_value >= harmony_memory_considering_rate) and solution.intersection(harmony_memory[j]):\n",
        "                # Method 1\n",
        "                solution = solution.union(harmony_memory[j])\n",
        "                pitch_random = random.randrange(1)\n",
        "                if pitch_random >= pitch_adjustment_rate:\n",
        "                    # Method 2\n",
        "                    solution = PitchAdjustment(G, solution)\n",
        "            else:\n",
        "                # Method 3\n",
        "                solution = PitchAdjustment(G, solution)\n",
        "        worst_solution, index = FindWorstSolution(harmony_memory)\n",
        "        if len(solution) > len(worst_solution):\n",
        "            harmony_memory[index] = solution\n",
        "    return FindBestSolution(harmony_memory)"
      ]
    },
    {
      "cell_type": "code",
      "source": [
        "import networkx as nx\n",
        "from networkx.generators.random_graphs import erdos_renyi_graph, gnm_random_graph\n",
        "\n",
        "def check_connected(G):\n",
        "  if nx.is_connected(G):\n",
        "    return False\n",
        "  else:\n",
        "    return True\n",
        "def create_random_interaction_data():\n",
        "  test_list = [i for i in range(6,0,-1)]\n",
        "  test_list.pop(random.randrange(len(test_list)))\n",
        "  test_list.pop(random.randrange(len(test_list)))\n",
        "  test_list.pop(random.randrange(len(test_list)))\n",
        "  return test_list\n",
        "def create_graph(V,e):\n",
        "  G = gnm_random_graph(V, e)\n",
        "  edges = list(G.edges)\n",
        "  for i in edges:\n",
        "    if not G[i[0]][i[1]]:\n",
        "      G[i[0]][i[1]]['weight'] = create_random_interaction_data()\n",
        "      G[i[1]][i[0]]['weight'] = G[i[0]][i[1]]['weight']\n",
        "  return G, V, edges\n",
        "\n",
        "from timeit import default_timer as timer\n",
        "for i in range(10, 10**4, 500):\n",
        "  harmony_memory = []\n",
        "  G, _, edges = create_graph(i, 4 * i)\n",
        "  start = timer()\n",
        "  x = HarmonySearch(G, 0)\n",
        "  end = timer()\n",
        "  print(i, end-start)"
      ],
      "metadata": {
        "id": "pa8hDl6-viU2",
        "colab": {
          "base_uri": "https://localhost:8080/"
        },
        "outputId": "0f14924b-aa39-41d3-e395-83669041e0c9"
      },
      "execution_count": null,
      "outputs": [
        {
          "output_type": "stream",
          "name": "stdout",
          "text": [
            "10 0.7533802420002758\n",
            "510 1.6459094609999738\n",
            "1010 2.338617699999304\n",
            "1510 2.547030719000759\n",
            "2010 2.9660603539996373\n",
            "2510 3.1383019659997444\n",
            "3010 3.1624196359998678\n",
            "3510 3.248217385999851\n",
            "4010 3.380059624999376\n",
            "4510 3.8042960170005244\n",
            "5010 3.3960539319996315\n",
            "5510 3.46079741199992\n",
            "6010 3.4932184220006093\n",
            "6510 3.4962532600002305\n",
            "7010 3.4575904700004685\n",
            "7510 3.497019115000512\n",
            "8010 3.5827349970004434\n",
            "8510 3.592170659000658\n",
            "9010 3.5748310760000095\n",
            "9510 3.59481227499964\n"
          ]
        }
      ]
    },
    {
      "cell_type": "code",
      "source": [
        "import pandas as pd\n",
        "df = pd.read_csv('results.txt', sep=' ')\n",
        "df.head()"
      ],
      "metadata": {
        "colab": {
          "base_uri": "https://localhost:8080/",
          "height": 206
        },
        "id": "aROEHdxoB9MZ",
        "outputId": "058537ae-617b-4da8-d046-209afb2ef04e"
      },
      "execution_count": null,
      "outputs": [
        {
          "output_type": "execute_result",
          "data": {
            "text/plain": [
              "   population  time_taken\n",
              "0          10    0.758013\n",
              "1         510    1.651722\n",
              "2        1010    2.371110\n",
              "3        1510    2.572772\n",
              "4        2010    2.988778"
            ],
            "text/html": [
              "\n",
              "  <div id=\"df-cfd17806-fa10-4a44-aa74-7392e90d0bbb\">\n",
              "    <div class=\"colab-df-container\">\n",
              "      <div>\n",
              "<style scoped>\n",
              "    .dataframe tbody tr th:only-of-type {\n",
              "        vertical-align: middle;\n",
              "    }\n",
              "\n",
              "    .dataframe tbody tr th {\n",
              "        vertical-align: top;\n",
              "    }\n",
              "\n",
              "    .dataframe thead th {\n",
              "        text-align: right;\n",
              "    }\n",
              "</style>\n",
              "<table border=\"1\" class=\"dataframe\">\n",
              "  <thead>\n",
              "    <tr style=\"text-align: right;\">\n",
              "      <th></th>\n",
              "      <th>population</th>\n",
              "      <th>time_taken</th>\n",
              "    </tr>\n",
              "  </thead>\n",
              "  <tbody>\n",
              "    <tr>\n",
              "      <th>0</th>\n",
              "      <td>10</td>\n",
              "      <td>0.758013</td>\n",
              "    </tr>\n",
              "    <tr>\n",
              "      <th>1</th>\n",
              "      <td>510</td>\n",
              "      <td>1.651722</td>\n",
              "    </tr>\n",
              "    <tr>\n",
              "      <th>2</th>\n",
              "      <td>1010</td>\n",
              "      <td>2.371110</td>\n",
              "    </tr>\n",
              "    <tr>\n",
              "      <th>3</th>\n",
              "      <td>1510</td>\n",
              "      <td>2.572772</td>\n",
              "    </tr>\n",
              "    <tr>\n",
              "      <th>4</th>\n",
              "      <td>2010</td>\n",
              "      <td>2.988778</td>\n",
              "    </tr>\n",
              "  </tbody>\n",
              "</table>\n",
              "</div>\n",
              "      <button class=\"colab-df-convert\" onclick=\"convertToInteractive('df-cfd17806-fa10-4a44-aa74-7392e90d0bbb')\"\n",
              "              title=\"Convert this dataframe to an interactive table.\"\n",
              "              style=\"display:none;\">\n",
              "        \n",
              "  <svg xmlns=\"http://www.w3.org/2000/svg\" height=\"24px\"viewBox=\"0 0 24 24\"\n",
              "       width=\"24px\">\n",
              "    <path d=\"M0 0h24v24H0V0z\" fill=\"none\"/>\n",
              "    <path d=\"M18.56 5.44l.94 2.06.94-2.06 2.06-.94-2.06-.94-.94-2.06-.94 2.06-2.06.94zm-11 1L8.5 8.5l.94-2.06 2.06-.94-2.06-.94L8.5 2.5l-.94 2.06-2.06.94zm10 10l.94 2.06.94-2.06 2.06-.94-2.06-.94-.94-2.06-.94 2.06-2.06.94z\"/><path d=\"M17.41 7.96l-1.37-1.37c-.4-.4-.92-.59-1.43-.59-.52 0-1.04.2-1.43.59L10.3 9.45l-7.72 7.72c-.78.78-.78 2.05 0 2.83L4 21.41c.39.39.9.59 1.41.59.51 0 1.02-.2 1.41-.59l7.78-7.78 2.81-2.81c.8-.78.8-2.07 0-2.86zM5.41 20L4 18.59l7.72-7.72 1.47 1.35L5.41 20z\"/>\n",
              "  </svg>\n",
              "      </button>\n",
              "      \n",
              "  <style>\n",
              "    .colab-df-container {\n",
              "      display:flex;\n",
              "      flex-wrap:wrap;\n",
              "      gap: 12px;\n",
              "    }\n",
              "\n",
              "    .colab-df-convert {\n",
              "      background-color: #E8F0FE;\n",
              "      border: none;\n",
              "      border-radius: 50%;\n",
              "      cursor: pointer;\n",
              "      display: none;\n",
              "      fill: #1967D2;\n",
              "      height: 32px;\n",
              "      padding: 0 0 0 0;\n",
              "      width: 32px;\n",
              "    }\n",
              "\n",
              "    .colab-df-convert:hover {\n",
              "      background-color: #E2EBFA;\n",
              "      box-shadow: 0px 1px 2px rgba(60, 64, 67, 0.3), 0px 1px 3px 1px rgba(60, 64, 67, 0.15);\n",
              "      fill: #174EA6;\n",
              "    }\n",
              "\n",
              "    [theme=dark] .colab-df-convert {\n",
              "      background-color: #3B4455;\n",
              "      fill: #D2E3FC;\n",
              "    }\n",
              "\n",
              "    [theme=dark] .colab-df-convert:hover {\n",
              "      background-color: #434B5C;\n",
              "      box-shadow: 0px 1px 3px 1px rgba(0, 0, 0, 0.15);\n",
              "      filter: drop-shadow(0px 1px 2px rgba(0, 0, 0, 0.3));\n",
              "      fill: #FFFFFF;\n",
              "    }\n",
              "  </style>\n",
              "\n",
              "      <script>\n",
              "        const buttonEl =\n",
              "          document.querySelector('#df-cfd17806-fa10-4a44-aa74-7392e90d0bbb button.colab-df-convert');\n",
              "        buttonEl.style.display =\n",
              "          google.colab.kernel.accessAllowed ? 'block' : 'none';\n",
              "\n",
              "        async function convertToInteractive(key) {\n",
              "          const element = document.querySelector('#df-cfd17806-fa10-4a44-aa74-7392e90d0bbb');\n",
              "          const dataTable =\n",
              "            await google.colab.kernel.invokeFunction('convertToInteractive',\n",
              "                                                     [key], {});\n",
              "          if (!dataTable) return;\n",
              "\n",
              "          const docLinkHtml = 'Like what you see? Visit the ' +\n",
              "            '<a target=\"_blank\" href=https://colab.research.google.com/notebooks/data_table.ipynb>data table notebook</a>'\n",
              "            + ' to learn more about interactive tables.';\n",
              "          element.innerHTML = '';\n",
              "          dataTable['output_type'] = 'display_data';\n",
              "          await google.colab.output.renderOutput(dataTable, element);\n",
              "          const docLink = document.createElement('div');\n",
              "          docLink.innerHTML = docLinkHtml;\n",
              "          element.appendChild(docLink);\n",
              "        }\n",
              "      </script>\n",
              "    </div>\n",
              "  </div>\n",
              "  "
            ]
          },
          "metadata": {},
          "execution_count": 137
        }
      ]
    },
    {
      "cell_type": "code",
      "source": [
        "import matplotlib.pyplot as plot"
      ],
      "metadata": {
        "id": "BLKRCNRhFzdB"
      },
      "execution_count": null,
      "outputs": []
    },
    {
      "cell_type": "code",
      "source": [
        "plot.plot(df['population'], df['time_taken'])"
      ],
      "metadata": {
        "colab": {
          "base_uri": "https://localhost:8080/",
          "height": 285
        },
        "id": "sR-xh-GzGLbR",
        "outputId": "150ddde5-4f29-4c26-800e-d26c61c08e1a"
      },
      "execution_count": null,
      "outputs": [
        {
          "output_type": "execute_result",
          "data": {
            "text/plain": [
              "[<matplotlib.lines.Line2D at 0x7fb019e38790>]"
            ]
          },
          "metadata": {},
          "execution_count": 140
        },
        {
          "output_type": "display_data",
          "data": {
            "text/plain": [
              "<Figure size 432x288 with 1 Axes>"
            ],
            "image/png": "[encoded data removed]"
          },
          "metadata": {
            "needs_background": "light"
          }
        }
      ]
    }
  ]
}